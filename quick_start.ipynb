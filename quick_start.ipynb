{
 "cells": [
  {
   "cell_type": "code",
   "execution_count": 99,
   "metadata": {},
   "outputs": [],
   "source": [
    "import numpy as np\n",
    "\n",
    "def game_core_v2(number):\n",
    "    '''Сначала устанавливаем любое random число, а потом уменьшаем или увеличиваем его в зависимости от того, больше оно или меньше нужного.\n",
    "       Функция принимает загаданное число и возвращает число попыток'''\n",
    "    count = 1\n",
    "    predict = np.random.randint(1,101)\n",
    "    while number != predict:\n",
    "        count+=1\n",
    "        if number > predict: \n",
    "            predict += 1\n",
    "        elif number < predict: \n",
    "            predict -= 1\n",
    "    return(count) # выход из цикла, если угадали\n",
    "\n",
    "def score_game(game_core):\n",
    "    '''Запускаем игру 1000 раз, чтобы узнать, как быстро игра угадывает число'''\n",
    "    count_ls = []\n",
    "    np.random.seed(1)  # фиксируем RANDOM SEED, чтобы ваш эксперимент был воспроизводим!\n",
    "    random_array = np.random.randint(1,101, size=(1000))\n",
    "    for number in random_array:\n",
    "        count_ls.append(game_core(number))\n",
    "    score = int(np.mean(count_ls))\n",
    "    print(f\"Ваш алгоритм угадывает число в среднем за {score} попыток\")\n",
    "    return(score)"
   ]
  },
  {
   "cell_type": "code",
   "execution_count": 100,
   "metadata": {},
   "outputs": [],
   "source": [
    "def game_core_v3(number):\n",
    "    '''Сначала устанавливаем любое random число, затем проверяем принадлежит ли число от 1-50 или от 51-100, \n",
    "    присваимваем number случайное число от 1-50 или от 51-100 а потом уменьшаем или увеличиваем его в зависимости от того, больше оно или меньше нужного.\n",
    "       Функция принимает загаданное число и возвращает число попыток'''\n",
    "    count = 1\n",
    "    predict = np.random.randint(1,101)\n",
    "    if predict in range(1,51):\n",
    "        number = np.random.randint(1,51)\n",
    "    else:\n",
    "        number = np.random.randint(51,101)\n",
    "    while number != predict:\n",
    "        count+=1\n",
    "        if number > predict: \n",
    "            predict += 1\n",
    "        elif number < predict: \n",
    "            predict -= 1\n",
    "    return(count) # выход из цикла, если угадали"
   ]
  },
  {
   "cell_type": "code",
   "execution_count": 101,
   "metadata": {},
   "outputs": [],
   "source": [
    "def game_core_v4(number):\n",
    "    '''Сначала устанавливаем любое random число, а потом уменьшаем или увеличиваем \n",
    "    его в зависимости от того, больше оно или меньше нужного.\n",
    "       Функция принимает загаданное число и возвращает число попыток'''\n",
    "    count = 1\n",
    "    predict_up=[101] # здесь будут храниться все значения для верхней границы\n",
    "    predict_down=[1] # здесь будут храниться все значения для нижней границы\n",
    "    np.random.seed(1)\n",
    "    predict = np.random.randint(1,101)\n",
    "    \n",
    "    while number != predict:\n",
    "        count+=1\n",
    "        if number > predict:\n",
    "            predict_down.append(predict)\n",
    "            predict=np.random.randint(predict+1,min(predict_up))\n",
    "        elif number < predict:\n",
    "            predict_up.append(predict)\n",
    "            predict=np.random.randint(max(predict_down),predict)\n",
    "    return(count) # выход из цикла, если угадали"
   ]
  },
  {
   "cell_type": "code",
   "execution_count": 124,
   "metadata": {},
   "outputs": [],
   "source": [
    "def game_core_v5(number):\n",
    "    \n",
    "    '''\n",
    "Создаем списко, члены которого будут слжить вариантами для сравнения с \"number\",\n",
    "каждую итерацию присваиваем \"predict\" значение середины списка и уменьшаем списко в 2 раза\n",
    "       Функция принимает загаданное число и возвращает число попыток\n",
    "     '''   \n",
    "    \n",
    "    count=1\n",
    "    predict_list=[i for i in range(1,101) ]\n",
    "    predict = np.random.randint(1,101)\n",
    "\n",
    "    while number != predict:\n",
    "        count+=1\n",
    "        if number > predict:\n",
    "            predict_list=predict_list[predict_list.index(predict):]\n",
    "            predict=predict_list[len(predict_list)//2]\n",
    "        elif number < predict:\n",
    "            predict_list=predict_list[:predict_list.index(predict)]\n",
    "            predict=predict_list[len(predict_list)//2]\n",
    "    return(count) # выход из цикла, если угадали\""
   ]
  },
  {
   "cell_type": "code",
   "execution_count": 125,
   "metadata": {},
   "outputs": [
    {
     "name": "stdout",
     "output_type": "stream",
     "text": [
      "Ваш алгоритм угадывает число в среднем за 6 попыток\n"
     ]
    },
    {
     "data": {
      "text/plain": [
       "6"
      ]
     },
     "execution_count": 125,
     "metadata": {},
     "output_type": "execute_result"
    }
   ],
   "source": [
    "score_game(game_core_v5)"
   ]
  },
  {
   "cell_type": "code",
   "execution_count": null,
   "metadata": {},
   "outputs": [],
   "source": []
  }
 ],
 "metadata": {
  "kernelspec": {
   "display_name": "Python 3",
   "language": "python",
   "name": "python3"
  },
  "language_info": {
   "codemirror_mode": {
    "name": "ipython",
    "version": 3
   },
   "file_extension": ".py",
   "mimetype": "text/x-python",
   "name": "python",
   "nbconvert_exporter": "python",
   "pygments_lexer": "ipython3",
   "version": "3.7.0"
  }
 },
 "nbformat": 4,
 "nbformat_minor": 2
}
